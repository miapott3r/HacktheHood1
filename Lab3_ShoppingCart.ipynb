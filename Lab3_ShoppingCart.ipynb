{
  "nbformat": 4,
  "nbformat_minor": 0,
  "metadata": {
    "colab": {
      "provenance": [],
      "authorship_tag": "ABX9TyOQ9kQvOIfddSYphpGCotot",
      "include_colab_link": true
    },
    "kernelspec": {
      "name": "python3",
      "display_name": "Python 3"
    },
    "language_info": {
      "name": "python"
    }
  },
  "cells": [
    {
      "cell_type": "markdown",
      "metadata": {
        "id": "view-in-github",
        "colab_type": "text"
      },
      "source": [
        "<a href=\"https://colab.research.google.com/github/miapott3r/HacktheHood1/blob/main/Lab3_ShoppingCart.ipynb\" target=\"_parent\"><img src=\"https://colab.research.google.com/assets/colab-badge.svg\" alt=\"Open In Colab\"/></a>"
      ]
    },
    {
      "cell_type": "markdown",
      "source": [
        "# Shopping Cart\n",
        "## Part I\n",
        "1. What do I have?\n",
        "- I have the variables I want to use.\n",
        "- I have defined a way to check if something is already on my cart.\n",
        "- I have a way to ask the user for data.\n",
        "2. what do I want?\n",
        "I want to start the process of building a shopping cart.\n",
        "\n",
        "3. what do I need?\n",
        "- a place to hold items.\n",
        "    \n",
        "    `cart`\n",
        "\n",
        "a way to add items to our list\n",
        "    \n",
        "    `cart.append()`\n",
        "a way to print the items in our list\n",
        "    \n",
        "    `print(\"\"\"\"\"\"\" STUFF \"\"\"\"\"\"\")`\n",
        "\n",
        "\n",
        "a way to check if an item is already on that list. (optional)\n",
        "    `if` item is on the cart\n",
        "    `then`   do something\n",
        "    `else`   do somethign else\n",
        "The application will ask the user for items and then add them to a list which we call cart.  then a process will check if the item entered is on the list and if it is, the item will not be placed on that list."
      ],
      "metadata": {
        "id": "s0t3rsSQykYI"
      }
    },
    {
      "cell_type": "code",
      "source": [
        "cart = []"
      ],
      "metadata": {
        "id": "3Zd8SBhUyvkk"
      },
      "execution_count": 27,
      "outputs": []
    },
    {
      "cell_type": "code",
      "source": [
        "cart.append(\"bread\")\n",
        "print(f\"The items in your cart are: {cart}\")"
      ],
      "metadata": {
        "colab": {
          "base_uri": "https://localhost:8080/"
        },
        "id": "-RDa0irvyviE",
        "outputId": "e37249a3-5708-406f-9e41-04700ce77ed9"
      },
      "execution_count": 24,
      "outputs": [
        {
          "output_type": "stream",
          "name": "stdout",
          "text": [
            "The items in your cart are: ['mixed fruit bowl', 'bread', 'eggs', 'bread']\n"
          ]
        }
      ]
    },
    {
      "cell_type": "code",
      "source": [
        "\n",
        "item = input('What would you like to add to the shopping cart? ')\n",
        "#TODO: Commant this line\n",
        "\n",
        "'''\n",
        "\"if\" item is on the cart\n",
        "\"then\"   do something\n",
        "\"else\"   do something else\n",
        "'''\n",
        "#TODO: C\n",
        "#commant this line\n",
        "\n",
        "if item in cart:\n",
        "#TODO: Commant this line\n",
        "\n",
        "    print(f\"{item} is already on the cart.\")\n",
        "else:\n",
        "\n",
        "#TODO: Commant this line\n",
        " cart.append(\"items\")\n",
        "\n",
        "print(f\"The items in your cart are: {cart}\")\n",
        "#TODO: Commant this line"
      ],
      "metadata": {
        "colab": {
          "base_uri": "https://localhost:8080/"
        },
        "id": "e0SB8pJ-65UH",
        "outputId": "4f9a2412-a0ca-4527-fe73-c8529008c0af"
      },
      "execution_count": 31,
      "outputs": [
        {
          "output_type": "stream",
          "name": "stdout",
          "text": [
            "What would you like to add to the shopping cart? hot dogs\n",
            "The items in your cart are: ['items', 'items', 'items']\n"
          ]
        }
      ]
    },
    {
      "cell_type": "code",
      "source": [
        "item_removed = cart.pop(1) # removes and returns the item at index 1\n",
        "\n",
        "print(f\"You removed: {item_removed}\")\n",
        "\n",
        "print(f\"The items in your cart are: {cart}\")\n"
      ],
      "metadata": {
        "colab": {
          "base_uri": "https://localhost:8080/"
        },
        "id": "L1MvOXqZyuu6",
        "outputId": "bb27d40f-09dd-4310-e394-82f3ec0466f2"
      },
      "execution_count": 32,
      "outputs": [
        {
          "output_type": "stream",
          "name": "stdout",
          "text": [
            "You removed: items\n",
            "The items in your cart are: ['items', 'items']\n"
          ]
        }
      ]
    },
    {
      "cell_type": "code",
      "source": [
        "print(f\"The items in your cart are: {cart}\")"
      ],
      "metadata": {
        "colab": {
          "base_uri": "https://localhost:8080/"
        },
        "id": "wzD8YUapyuZ4",
        "outputId": "b19652c1-077b-4c17-a57b-464b0972d23d"
      },
      "execution_count": 19,
      "outputs": [
        {
          "output_type": "stream",
          "name": "stdout",
          "text": [
            "The items in your cart are: ['mixed fruit bowl', 'bread']\n"
          ]
        }
      ]
    },
    {
      "cell_type": "code",
      "source": [],
      "metadata": {
        "id": "uBLqLuK356XU"
      },
      "execution_count": null,
      "outputs": []
    }
  ]
}