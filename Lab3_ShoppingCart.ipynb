{
  "nbformat": 4,
  "nbformat_minor": 0,
  "metadata": {
    "colab": {
      "provenance": [],
      "authorship_tag": "ABX9TyNkD4hs/7O6i0i4D0bpsdJt",
      "include_colab_link": true
    },
    "kernelspec": {
      "name": "python3",
      "display_name": "Python 3"
    },
    "language_info": {
      "name": "python"
    }
  },
  "cells": [
    {
      "cell_type": "markdown",
      "metadata": {
        "id": "view-in-github",
        "colab_type": "text"
      },
      "source": [
        "<a href=\"https://colab.research.google.com/github/miapott3r/HacktheHood1/blob/main/Lab3_ShoppingCart.ipynb\" target=\"_parent\"><img src=\"https://colab.research.google.com/assets/colab-badge.svg\" alt=\"Open In Colab\"/></a>"
      ]
    },
    {
      "cell_type": "markdown",
      "source": [
        "# Shopping Cart\n",
        "## Part I\n",
        "1. What do I have?\n",
        "- I have the variables I want to use.\n",
        "- I have defined a way to check if something is already on my cart.\n",
        "- I have a way to ask the user for data.\n",
        "2. what do I want?\n",
        "I want to start the process of building a shopping cart.\n",
        "\n",
        "3. what do I need?\n",
        "- a place to hold items.\n",
        "    \n",
        "    `cart`\n",
        "\n",
        "a way to add items to our list\n",
        "    \n",
        "    `cart.append()`\n",
        "a way to print the items in our list\n",
        "    \n",
        "    `print(\"\"\"\"\"\"\" STUFF \"\"\"\"\"\"\")`\n",
        "\n",
        "\n",
        "a way to check if an item is already on that list. (optional)\n",
        "    `if` item is on the cart\n",
        "    `then`   do something\n",
        "    `else`   do somethign else\n",
        "The application will ask the user for items and then add them to a list which we call cart.  then a process will check if the item entered is on the list and if it is, the item will not be placed on that list."
      ],
      "metadata": {
        "id": "s0t3rsSQykYI"
      }
    },
    {
      "cell_type": "code",
      "source": [
        "cart = []\n",
        "print(f\"The items in your cart are: {cart}\")"
      ],
      "metadata": {
        "colab": {
          "base_uri": "https://localhost:8080/"
        },
        "id": "3Zd8SBhUyvkk",
        "outputId": "0a2d2292-92e5-4af9-ce3f-071a23b5ebbd"
      },
      "execution_count": 12,
      "outputs": [
        {
          "output_type": "stream",
          "name": "stdout",
          "text": [
            "The items in your cart are: []\n"
          ]
        }
      ]
    },
    {
      "cell_type": "code",
      "source": [],
      "metadata": {
        "id": "fwdijAiP7JPt"
      },
      "execution_count": 12,
      "outputs": []
    },
    {
      "cell_type": "code",
      "source": [
        "cart.append(\"bread\")\n",
        "cart.append(\"milk\")\n",
        "cart.append(\"eggs\")\n",
        "print(f\"The items in your cart are: {cart}\")"
      ],
      "metadata": {
        "colab": {
          "base_uri": "https://localhost:8080/"
        },
        "id": "-RDa0irvyviE",
        "outputId": "f3cf58d8-a5c7-4741-b17f-262066c578dc"
      },
      "execution_count": 13,
      "outputs": [
        {
          "output_type": "stream",
          "name": "stdout",
          "text": [
            "The items in your cart are: ['bread', 'milk', 'eggs']\n"
          ]
        }
      ]
    },
    {
      "cell_type": "code",
      "source": [
        "\n",
        "item = input('What would you like to add to the shopping cart? ')\n",
        "#TODO: Commant this line\n",
        "\n",
        "'''\n",
        "\"if\" item is on the cart\n",
        "\"then\"   do something\n",
        "\"else\"   do something else\n",
        "'''\n",
        "#TODO: C\n",
        "#commant this line\n",
        "\n",
        "if item in cart:\n",
        "#TODO: Commant this line\n",
        "\n",
        "    print(f\"{item} is already on the cart.\")\n",
        "else:\n",
        "\n",
        "#TODO: Commant this line\n",
        " cart.append(\"choclate cake\")\n",
        "\n",
        "print(f\"The items in your cart are: {cart}\")\n",
        "#TODO: Commant this line"
      ],
      "metadata": {
        "colab": {
          "base_uri": "https://localhost:8080/"
        },
        "id": "e0SB8pJ-65UH",
        "outputId": "b30ac396-4331-4e43-9944-60f202bcfe9a"
      },
      "execution_count": 14,
      "outputs": [
        {
          "output_type": "stream",
          "name": "stdout",
          "text": [
            "What would you like to add to the shopping cart? chocolate cake\n",
            "The items in your cart are: ['bread', 'milk', 'eggs', 'choclate cake']\n"
          ]
        }
      ]
    },
    {
      "cell_type": "code",
      "source": [
        "item_removed = cart.pop(1) # removes and returns the item at index 1\n",
        "\n",
        "print(f\"You removed: {item_removed}\")\n",
        "\n",
        "print(f\"The items in your cart are: {cart}\")\n"
      ],
      "metadata": {
        "colab": {
          "base_uri": "https://localhost:8080/"
        },
        "id": "L1MvOXqZyuu6",
        "outputId": "9549e074-80a2-4aed-b0c9-21d37c67a797"
      },
      "execution_count": 15,
      "outputs": [
        {
          "output_type": "stream",
          "name": "stdout",
          "text": [
            "You removed: milk\n",
            "The items in your cart are: ['bread', 'eggs', 'choclate cake']\n"
          ]
        }
      ]
    },
    {
      "cell_type": "code",
      "source": [
        "print(f\"The items in your cart are: {cart}\")"
      ],
      "metadata": {
        "colab": {
          "base_uri": "https://localhost:8080/"
        },
        "id": "wzD8YUapyuZ4",
        "outputId": "d3a2edf7-028b-499e-ea3d-0eacf94edcd5"
      },
      "execution_count": 16,
      "outputs": [
        {
          "output_type": "stream",
          "name": "stdout",
          "text": [
            "The items in your cart are: ['bread', 'eggs', 'choclate cake']\n"
          ]
        }
      ]
    },
    {
      "cell_type": "code",
      "source": [],
      "metadata": {
        "id": "uBLqLuK356XU"
      },
      "execution_count": null,
      "outputs": []
    }
  ]
}