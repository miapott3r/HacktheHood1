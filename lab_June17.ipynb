{
  "nbformat": 4,
  "nbformat_minor": 0,
  "metadata": {
    "colab": {
      "provenance": [],
      "authorship_tag": "ABX9TyNAe6Np2EezUxIlHyM+T0nV",
      "include_colab_link": true
    },
    "kernelspec": {
      "name": "python3",
      "display_name": "Python 3"
    },
    "language_info": {
      "name": "python"
    }
  },
  "cells": [
    {
      "cell_type": "markdown",
      "metadata": {
        "id": "view-in-github",
        "colab_type": "text"
      },
      "source": [
        "<a href=\"https://colab.research.google.com/github/miapott3r/HacktheHood1/blob/main/lab_June17.ipynb\" target=\"_parent\"><img src=\"https://colab.research.google.com/assets/colab-badge.svg\" alt=\"Open In Colab\"/></a>"
      ]
    },
    {
      "cell_type": "markdown",
      "source": [
        "\n",
        "# Lab June 17\n",
        "## Intro to Pseudo Code"
      ],
      "metadata": {
        "id": "rLVovw5czm5T"
      }
    },
    {
      "cell_type": "code",
      "source": [],
      "metadata": {
        "id": "byPqTg9t0pjr"
      },
      "execution_count": null,
      "outputs": []
    },
    {
      "cell_type": "markdown",
      "source": [
        "### Pseudo code for my application\n",
        "\n",
        "I want to write a program that takes user input and prints it back on the screen\n",
        "\n",
        "`First_name` the user's first name\n",
        "\n",
        "`Last_name` the user's last name\n",
        "\n",
        "`Age` the user's age\n",
        "\n",
        "`Fav_color` The user's favorite color\n",
        "\n",
        "`Fav_ Teams` The user's favorite team\n",
        "\n",
        "use a 'built-in' process to take user's data\n",
        "\n",
        "use a \"built-in' process to display user's data"
      ],
      "metadata": {
        "id": "MJkBkcDr0pX8"
      }
    },
    {
      "cell_type": "markdown",
      "source": [
        "### Code for my application"
      ],
      "metadata": {
        "id": "IuM4Cvc72ZsZ"
      }
    },
    {
      "cell_type": "code",
      "source": [
        "First_name = 'Miaya'\n",
        "\n",
        "Last_name = 'Potter'\n",
        "\n",
        "Age = 24\n",
        "\n",
        "Fav_color = 'purple'\n",
        "\n",
        "Fav_Teams = 'Red'"
      ],
      "metadata": {
        "id": "M_t84STct23z"
      },
      "execution_count": 24,
      "outputs": []
    },
    {
      "cell_type": "code",
      "source": [
        "First_name = input(\"what is your first name?\")"
      ],
      "metadata": {
        "colab": {
          "base_uri": "https://localhost:8080/"
        },
        "id": "OZGd_Paq3l-M",
        "outputId": "c944562a-24a8-49e6-d1ba-52962ea3ac25"
      },
      "execution_count": 25,
      "outputs": [
        {
          "name": "stdout",
          "output_type": "stream",
          "text": [
            "what is your first name?Miaya \n"
          ]
        }
      ]
    },
    {
      "cell_type": "code",
      "source": [
        "First_name = input(\"what is your first name?\")\n",
        "\n",
        "Last_name = input(\"what is your last name?\")\n",
        "\n",
        "Age = input(\"what is your age?\")\n",
        "\n",
        "Fav_color = input(\"what is your favorite color?\")\n",
        "\n",
        "Fav_Teams = input(\"what is your favorite team?\")\n",
        "\n",
        "print (f\"user first name is, {First_name},last name is, {Last_name}, age is, {Age}, favorite colour is, {Fav_Color}, favorite team is, {Fav_Teams}\")\n"
      ],
      "metadata": {
        "colab": {
          "base_uri": "https://localhost:8080/"
        },
        "id": "BEI5s6ms4k7B",
        "outputId": "3e57326a-6d50-453c-8829-0468071b4fc9"
      },
      "execution_count": 34,
      "outputs": [
        {
          "output_type": "stream",
          "name": "stdout",
          "text": [
            "what is your first name?Miaya \n",
            "what is your last name?Potter\n",
            "what is your age?24\n",
            "what is your favorite color?green\n",
            "what is your favorite team?red\n",
            "user first name is, Miaya ,last name is, Potter, age is, 24, favorite colour is, green, favorite team is, red\n"
          ]
        }
      ]
    },
    {
      "cell_type": "code",
      "source": [
        "First_name = input(\"What is your first name?\")"
      ],
      "metadata": {
        "colab": {
          "base_uri": "https://localhost:8080/"
        },
        "id": "uq0nkuycyYiC",
        "outputId": "194c5875-7cd1-45cd-84f0-4545306c5368"
      },
      "execution_count": 26,
      "outputs": [
        {
          "name": "stdout",
          "output_type": "stream",
          "text": [
            "What is your first name?Miaya \n"
          ]
        }
      ]
    },
    {
      "cell_type": "code",
      "source": [
        "print (First_name)"
      ],
      "metadata": {
        "id": "Jk9KbxfWr18T",
        "colab": {
          "base_uri": "https://localhost:8080/"
        },
        "outputId": "5c4fb2e7-aea8-44d9-9b08-c4aeca86f50c"
      },
      "execution_count": 7,
      "outputs": [
        {
          "output_type": "stream",
          "name": "stdout",
          "text": [
            " Miaya \n"
          ]
        }
      ]
    },
    {
      "cell_type": "code",
      "source": [
        "Last_name = input(\"What is your last name?\")"
      ],
      "metadata": {
        "colab": {
          "base_uri": "https://localhost:8080/"
        },
        "id": "DzyYDUTkylEN",
        "outputId": "00ed946a-d30e-4b7a-edd6-1d9a64e0a901"
      },
      "execution_count": 29,
      "outputs": [
        {
          "name": "stdout",
          "output_type": "stream",
          "text": [
            "What is your last name?Potter\n"
          ]
        }
      ]
    },
    {
      "cell_type": "code",
      "source": [
        "print (Last_name)"
      ],
      "metadata": {
        "colab": {
          "base_uri": "https://localhost:8080/"
        },
        "id": "4Vf6_LI3yqkR",
        "outputId": "4fd988be-c769-4583-c765-b91d88c90587"
      },
      "execution_count": 32,
      "outputs": [
        {
          "output_type": "stream",
          "name": "stdout",
          "text": [
            "Potter\n"
          ]
        }
      ]
    },
    {
      "cell_type": "code",
      "source": [
        "Fav_color = input(\"What is your favorite color?\")"
      ],
      "metadata": {
        "id": "ehG3ggTErLsS",
        "colab": {
          "base_uri": "https://localhost:8080/"
        },
        "outputId": "5f5d43a7-3867-45d7-b777-15c711da1af5"
      },
      "execution_count": 31,
      "outputs": [
        {
          "name": "stdout",
          "output_type": "stream",
          "text": [
            "What is your favorite color?Green\n"
          ]
        }
      ]
    },
    {
      "cell_type": "code",
      "source": [
        "print(Fav_color)"
      ],
      "metadata": {
        "colab": {
          "base_uri": "https://localhost:8080/"
        },
        "id": "vY-NefsF3e7t",
        "outputId": "7795c430-f6be-4c58-bbc8-605d450af285"
      },
      "execution_count": 27,
      "outputs": [
        {
          "output_type": "stream",
          "name": "stdout",
          "text": [
            "purple\n"
          ]
        }
      ]
    },
    {
      "cell_type": "code",
      "source": [
        "Age= input(\"what is your age?\")"
      ],
      "metadata": {
        "colab": {
          "base_uri": "https://localhost:8080/"
        },
        "id": "y7-hzBqk9lUS",
        "outputId": "e804f6bc-e657-4445-894d-f85412d0a34a"
      },
      "execution_count": 8,
      "outputs": [
        {
          "name": "stdout",
          "output_type": "stream",
          "text": [
            "what is your age?25\n"
          ]
        }
      ]
    },
    {
      "cell_type": "code",
      "source": [
        "print (Age)"
      ],
      "metadata": {
        "colab": {
          "base_uri": "https://localhost:8080/"
        },
        "id": "yeNbmgnft8uD",
        "outputId": "128844d1-81f0-4a54-b074-acd9ffd94e41"
      },
      "execution_count": 15,
      "outputs": [
        {
          "output_type": "stream",
          "name": "stdout",
          "text": [
            "24\n"
          ]
        }
      ]
    },
    {
      "cell_type": "code",
      "source": [
        "Fav_Teams= input('What is your favorite team?')"
      ],
      "metadata": {
        "colab": {
          "base_uri": "https://localhost:8080/"
        },
        "id": "iSy0b7mnzh8F",
        "outputId": "793939eb-45cd-4048-c341-9de03474967e"
      },
      "execution_count": 37,
      "outputs": [
        {
          "name": "stdout",
          "output_type": "stream",
          "text": [
            "What is your favorite team?Green\n"
          ]
        }
      ]
    },
    {
      "cell_type": "code",
      "source": [
        "print (Fav_Teams)"
      ],
      "metadata": {
        "colab": {
          "base_uri": "https://localhost:8080/"
        },
        "id": "ZW2WuN6ozkmO",
        "outputId": "e858aac9-63b3-4b0c-efe6-66120852d732"
      },
      "execution_count": 38,
      "outputs": [
        {
          "output_type": "stream",
          "name": "stdout",
          "text": [
            "Green\n"
          ]
        }
      ]
    },
    {
      "cell_type": "markdown",
      "source": [
        "F-String"
      ],
      "metadata": {
        "id": "ror4SVF_v9Bi"
      }
    },
    {
      "cell_type": "code",
      "source": [
        "First_name = input(\"What is your first name?\")\n",
        "Last_name = input(\"What is your last name?\")\n",
        "Age = input(\"What is your age?\")\n",
        "Fav_Color = input(\"What is your favorite color?\")\n",
        "Fav_Teams = input(\"What is your favorite team?\")\n",
        "\n",
        "print (f\"user first name is {First_name},last name is {Last_name}, my favorite colour is {Fav_Color}, favorite team is {Fav_Teams}\")\n"
      ],
      "metadata": {
        "colab": {
          "base_uri": "https://localhost:8080/"
        },
        "id": "etIPxMttvjF5",
        "outputId": "e6959631-bb9c-4624-cb0d-c1037f2d82d3"
      },
      "execution_count": 40,
      "outputs": [
        {
          "output_type": "stream",
          "name": "stdout",
          "text": [
            "What is your first name?Miaya \n",
            "What is your last name?Potter\n",
            "What is your age?24\n",
            "What is your favorite color?Green\n",
            "What is your favorite team?Red\n",
            "user first name is Miaya ,last name is Potter, favorite colour is Green, favorite team is Red\n"
          ]
        }
      ]
    },
    {
      "cell_type": "code",
      "source": [
        "print (f\"user first name is {First_name},my last name is {Last_name}, my favorite colour is {Fav_Color},  my favorite team is {Fav_Teams}\")"
      ],
      "metadata": {
        "colab": {
          "base_uri": "https://localhost:8080/"
        },
        "id": "FPXXktYCyG0m",
        "outputId": "1a5f9237-d115-4fb1-839d-43b3fa2f11df"
      },
      "execution_count": 43,
      "outputs": [
        {
          "output_type": "stream",
          "name": "stdout",
          "text": [
            "user first name is Miaya ,my last name is Potter, my favorite colour is Green,  my favorite team is Red\n"
          ]
        }
      ]
    },
    {
      "cell_type": "code",
      "source": [],
      "metadata": {
        "id": "ol_6qrHoyIfD"
      },
      "execution_count": null,
      "outputs": []
    }
  ]
}